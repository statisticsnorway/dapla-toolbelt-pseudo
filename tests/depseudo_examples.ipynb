{
 "cells": [
  {
   "cell_type": "code",
   "execution_count": null,
   "metadata": {},
   "outputs": [],
   "source": [
    "import pandas as pd\n",
    "\n",
    "from dapla_pseudo import Depseudonymize\n",
    "\n",
    "JSON_FILE = \"data/personer_pseudonymized.json\"\n",
    "CSV_FILE = \"data/personer_pseudonymized.csv\"\n",
    "\n",
    "df = pd.read_json(\n",
    "    JSON_FILE,\n",
    "    dtype={\n",
    "        \"fnr\": \"string\",\n",
    "        \"fornavn\": \"string\",\n",
    "        \"etternavn\": \"string\",\n",
    "        \"kjonn\": \"category\",\n",
    "        \"fodselsdato\": \"string\",\n",
    "    },\n",
    ")\n",
    "df.head()"
   ]
  },
  {
   "cell_type": "markdown",
   "metadata": {},
   "source": [
    "# Case: Single field, default encryption (DAEAD)"
   ]
  },
  {
   "cell_type": "code",
   "execution_count": null,
   "metadata": {},
   "outputs": [],
   "source": [
    "result = (\n",
    "    Depseudonymize               ### GENERAL WORKFLOW ###\n",
    "    .from_pandas(df)             # Select dataset\n",
    "    .on_fields(\"fnr\")            # Select fields in dataset\n",
    "    .with_default_encryption()   # Select encryption method on fields\n",
    "    .run()                       # Apply pseudonymization\n",
    ")\n",
    "result.to_polars().head()        # Convert result to Polars DataFrame"
   ]
  },
  {
   "cell_type": "markdown",
   "metadata": {},
   "source": [
    "# Case: Single field, default encryption from file"
   ]
  },
  {
   "cell_type": "code",
   "execution_count": null,
   "metadata": {},
   "outputs": [],
   "source": [
    "# Read from a bucket\n",
    "result = (\n",
    "    Depseudonymize\n",
    "    .from_file(\"gs://path/to/bucket/file.json\")\n",
    "    .on_fields(\"fnr\")\n",
    "    .with_default_encryption()\n",
    "    .run()\n",
    ")\n",
    "# Write to bucket\n",
    "result.to_file(\"gs://path/to/bucket/file.json\")\n",
    "\n",
    "# Read from local filesystem\n",
    "result = (\n",
    "    Depseudonymize\n",
    "    .from_file(JSON_FILE)\n",
    "    .on_fields(\"fnr\")\n",
    "    .with_default_encryption()\n",
    "    .run()\n",
    ")\n",
    "# Write to local filesystem\n",
    "result.to_file(\"/not/a/real/path.json\")"
   ]
  },
  {
   "cell_type": "markdown",
   "metadata": {},
   "source": [
    "# Case: Single field, FPE encryption (used for e.g. existing stable ID/snr/sid)"
   ]
  },
  {
   "cell_type": "code",
   "execution_count": null,
   "metadata": {},
   "outputs": [],
   "source": [
    "result = (\n",
    "    Depseudonymize.from_pandas(df)\n",
    "    .on_fields(\"fnr\")\n",
    "    .with_papis_compatible_encryption()\n",
    "    .run()\n",
    ")\n",
    "result.to_polars().head()"
   ]
  },
  {
   "cell_type": "markdown",
   "metadata": {},
   "source": [
    "# Case: Multiple fields, default encryption (DAEAD)"
   ]
  },
  {
   "cell_type": "code",
   "execution_count": null,
   "metadata": {},
   "outputs": [],
   "source": [
    "result = (\n",
    "    Depseudonymize.from_pandas(df)\n",
    "    .on_fields(\"fornavn\", \"etternavn\", \"fodselsdato\")\n",
    "    .with_default_encryption()\n",
    "    .run()\n",
    ")\n",
    "result.to_polars().head()"
   ]
  },
  {
   "cell_type": "markdown",
   "metadata": {},
   "source": [
    "# Case: Hierarchical dataset field selection\n",
    "When working with hierarchical datasets, we sometimes need more granular control for selecting fields.\n",
    "\n",
    "The \"on_fields()\" method supports glob-syntax *if and only if* reading directly from a file"
   ]
  },
  {
   "cell_type": "code",
   "execution_count": null,
   "metadata": {},
   "outputs": [],
   "source": [
    "\n",
    "# JSON_HIERARCHICAL follows the structure of the following JSON:\n",
    "\"\"\"{ \n",
    "    \"person_info\": {\n",
    "      \"fnr\": \"11854898347\",\n",
    "      \"fornavn\": \"Donald\",\n",
    "      \"etternavn\": \"Duck\"\n",
    "    },\n",
    "    \"kjonn\": \"M\",\n",
    "    \"fodselsdato\": \"020995\"\n",
    "  }\n",
    "}\"\"\"\n",
    "JSON_HIERARCHICAL = \"data/personer_hierarchical.json\"\n",
    "\n",
    "# NOTE: Only showing the first methods until \"on_fields()\" - the rest of the code is the same as in other examples\n",
    "result = (\n",
    "  Depseudonymize.\n",
    "  from_file(JSON_HIERARCHICAL)\n",
    "  .on_fields(\"fnr\")             # -> Select all nested fields that matches the name \"fnr\"\n",
    ")\n",
    "\n",
    "result = (\n",
    "  Depseudonymize.\n",
    "  from_file(JSON_HIERARCHICAL)\n",
    "  .on_fields(\"person_info/fnr\") # -> Select the nested field \"fnr\" inside any match of the field \"person_info\"\n",
    ")\n",
    "\n",
    "result = (\n",
    "  Depseudonymize.\n",
    "  from_file(JSON_HIERARCHICAL)\n",
    "  .on_fields(\"p*/fnr\")         # -> Select the nested field \"fnr\" inside a match of any field that starts with 'p'\n",
    ")\n",
    "\n",
    "result = (\n",
    "  Depseudonymize.\n",
    "  from_file(JSON_HIERARCHICAL)\n",
    "  .on_fields(\"person_info/f*\") # -> Select any field that starts with \"f\" inside the field \"person_info\"\n",
    ")"
   ]
  }
 ],
 "metadata": {
  "kernelspec": {
   "display_name": ".venv",
   "language": "python",
   "name": "python3"
  },
  "language_info": {
   "codemirror_mode": {
    "name": "ipython",
    "version": 3
   },
   "file_extension": ".py",
   "mimetype": "text/x-python",
   "name": "python",
   "nbconvert_exporter": "python",
   "pygments_lexer": "ipython3",
   "version": "3.12.1"
  }
 },
 "nbformat": 4,
 "nbformat_minor": 2
}
