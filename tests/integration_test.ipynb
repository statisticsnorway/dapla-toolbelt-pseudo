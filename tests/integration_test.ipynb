{
 "cells": [
  {
   "cell_type": "code",
   "execution_count": 1,
   "id": "fcc3b381-e9a8-4376-946f-d5aae4c7844f",
   "metadata": {
    "tags": []
   },
   "outputs": [],
   "source": [
    "import dapla_pseudo as dps\n",
    "import pandas as pd\n",
    "DATA_FILE = \"data/personer.json\""
   ]
  },
  {
   "cell_type": "markdown",
   "id": "11a6cb10-568c-464b-b6a1-886e29f4eba1",
   "metadata": {},
   "source": [
    "# Case: String path to data file"
   ]
  },
  {
   "cell_type": "code",
   "execution_count": 2,
   "id": "552106c1-3824-47ca-9566-4dd34ef8f79a",
   "metadata": {
    "tags": []
   },
   "outputs": [
    {
     "ename": "HTTPError",
     "evalue": "401 Client Error: Unauthorized for url: http://localhost:8080/pseudonymize/file",
     "output_type": "error",
     "traceback": [
      "\u001b[0;31m---------------------------------------------------------------------------\u001b[0m",
      "\u001b[0;31mHTTPError\u001b[0m                                 Traceback (most recent call last)",
      "Cell \u001b[0;32mIn[2], line 1\u001b[0m\n\u001b[0;32m----> 1\u001b[0m dps\u001b[39m.\u001b[39;49mpseudonymize(DATA_FILE, fields\u001b[39m=\u001b[39;49m[\u001b[39m\"\u001b[39;49m\u001b[39mfnr\u001b[39;49m\u001b[39m\"\u001b[39;49m])\n",
      "File \u001b[0;32m~/code/dapla/dapla-toolbelt-pseudo/src/dapla_pseudo/v1/ops.py:103\u001b[0m, in \u001b[0;36mpseudonymize\u001b[0;34m(data, fields, sid_fields, key, stream)\u001b[0m\n\u001b[1;32m    101\u001b[0m \u001b[39melse\u001b[39;00m:\n\u001b[1;32m    102\u001b[0m     \u001b[39mwith\u001b[39;00m \u001b[39mopen\u001b[39m(\u001b[39mstr\u001b[39m(data), \u001b[39m\"\u001b[39m\u001b[39mrb\u001b[39m\u001b[39m\"\u001b[39m) \u001b[39mas\u001b[39;00m file_handle:\n\u001b[0;32m--> 103\u001b[0m         \u001b[39mreturn\u001b[39;00m _client()\u001b[39m.\u001b[39;49mpseudonymize(pseudonymize_request, file_handle, stream\u001b[39m=\u001b[39;49mstream)\n",
      "File \u001b[0;32m~/code/dapla/dapla-toolbelt-pseudo/src/dapla_pseudo/v1/client.py:80\u001b[0m, in \u001b[0;36mPseudoClient.pseudonymize\u001b[0;34m(self, pseudonymize_request, data, stream, name)\u001b[0m\n\u001b[1;32m     77\u001b[0m \u001b[39mif\u001b[39;00m \u001b[39mnot\u001b[39;00m name\u001b[39m.\u001b[39mendswith(\u001b[39m\"\u001b[39m\u001b[39m.json\u001b[39m\u001b[39m\"\u001b[39m) \u001b[39mand\u001b[39;00m pseudonymize_request\u001b[39m.\u001b[39mtarget_content_type \u001b[39mis\u001b[39;00m Mimetypes\u001b[39m.\u001b[39mJSON:\n\u001b[1;32m     78\u001b[0m     name \u001b[39m=\u001b[39m \u001b[39mf\u001b[39m\u001b[39m\"\u001b[39m\u001b[39m{\u001b[39;00mname\u001b[39m}\u001b[39;00m\u001b[39m.json\u001b[39m\u001b[39m\"\u001b[39m  \u001b[39m# Pseudo service expects a file extension\u001b[39;00m\n\u001b[0;32m---> 80\u001b[0m \u001b[39mreturn\u001b[39;00m \u001b[39mself\u001b[39;49m\u001b[39m.\u001b[39;49m_post_to_pseudo_service(\n\u001b[1;32m     81\u001b[0m     \u001b[39mself\u001b[39;49m\u001b[39m.\u001b[39;49mPSEUDONYMIZE_FILE_ENDPOINT,\n\u001b[1;32m     82\u001b[0m     pseudonymize_request,\n\u001b[1;32m     83\u001b[0m     data,\n\u001b[1;32m     84\u001b[0m     name,\n\u001b[1;32m     85\u001b[0m     pseudonymize_request\u001b[39m.\u001b[39;49mtarget_content_type,\n\u001b[1;32m     86\u001b[0m     stream,\n\u001b[1;32m     87\u001b[0m )\n",
      "File \u001b[0;32m~/code/dapla/dapla-toolbelt-pseudo/src/dapla_pseudo/v1/client.py:180\u001b[0m, in \u001b[0;36mPseudoClient._post_to_pseudo_service\u001b[0;34m(self, path, request, data, name, content_type, stream)\u001b[0m\n\u001b[1;32m    169\u001b[0m auth_token \u001b[39m=\u001b[39m \u001b[39mself\u001b[39m\u001b[39m.\u001b[39m__auth_token()\n\u001b[1;32m    170\u001b[0m response \u001b[39m=\u001b[39m requests\u001b[39m.\u001b[39mpost(\n\u001b[1;32m    171\u001b[0m     url\u001b[39m=\u001b[39m\u001b[39mf\u001b[39m\u001b[39m\"\u001b[39m\u001b[39m{\u001b[39;00m\u001b[39mself\u001b[39m\u001b[39m.\u001b[39mpseudo_service_url\u001b[39m}\u001b[39;00m\u001b[39m/\u001b[39m\u001b[39m{\u001b[39;00mpath\u001b[39m}\u001b[39;00m\u001b[39m\"\u001b[39m,\n\u001b[1;32m    172\u001b[0m     headers\u001b[39m=\u001b[39m{\u001b[39m\"\u001b[39m\u001b[39mAuthorization\u001b[39m\u001b[39m\"\u001b[39m: \u001b[39mf\u001b[39m\u001b[39m\"\u001b[39m\u001b[39mBearer \u001b[39m\u001b[39m{\u001b[39;00mauth_token\u001b[39m}\u001b[39;00m\u001b[39m\"\u001b[39m},\n\u001b[0;32m   (...)\u001b[0m\n\u001b[1;32m    178\u001b[0m     timeout\u001b[39m=\u001b[39m\u001b[39m30\u001b[39m,  \u001b[39m# seconds\u001b[39;00m\n\u001b[1;32m    179\u001b[0m )\n\u001b[0;32m--> 180\u001b[0m response\u001b[39m.\u001b[39;49mraise_for_status()\n\u001b[1;32m    181\u001b[0m \u001b[39mreturn\u001b[39;00m response\n",
      "File \u001b[0;32m~/Library/Caches/pypoetry/virtualenvs/dapla-toolbelt-pseudo-s0-eGPKC-py3.10/lib/python3.10/site-packages/requests/models.py:1021\u001b[0m, in \u001b[0;36mResponse.raise_for_status\u001b[0;34m(self)\u001b[0m\n\u001b[1;32m   1016\u001b[0m     http_error_msg \u001b[39m=\u001b[39m (\n\u001b[1;32m   1017\u001b[0m         \u001b[39mf\u001b[39m\u001b[39m\"\u001b[39m\u001b[39m{\u001b[39;00m\u001b[39mself\u001b[39m\u001b[39m.\u001b[39mstatus_code\u001b[39m}\u001b[39;00m\u001b[39m Server Error: \u001b[39m\u001b[39m{\u001b[39;00mreason\u001b[39m}\u001b[39;00m\u001b[39m for url: \u001b[39m\u001b[39m{\u001b[39;00m\u001b[39mself\u001b[39m\u001b[39m.\u001b[39murl\u001b[39m}\u001b[39;00m\u001b[39m\"\u001b[39m\n\u001b[1;32m   1018\u001b[0m     )\n\u001b[1;32m   1020\u001b[0m \u001b[39mif\u001b[39;00m http_error_msg:\n\u001b[0;32m-> 1021\u001b[0m     \u001b[39mraise\u001b[39;00m HTTPError(http_error_msg, response\u001b[39m=\u001b[39m\u001b[39mself\u001b[39m)\n",
      "\u001b[0;31mHTTPError\u001b[0m: 401 Client Error: Unauthorized for url: http://localhost:8080/pseudonymize/file"
     ]
    }
   ],
   "source": [
    "dps.pseudonymize(DATA_FILE, fields=[\"fnr\"])"
   ]
  },
  {
   "cell_type": "markdown",
   "id": "6acdd9d8-8351-430b-94b7-3dace07e919e",
   "metadata": {},
   "source": [
    "# Case: Dataframe"
   ]
  },
  {
   "cell_type": "code",
   "execution_count": null,
   "id": "83456f33-245f-47d5-97ed-67aab8179c85",
   "metadata": {
    "tags": []
   },
   "outputs": [],
   "source": [
    "df = pd.read_json(DATA_FILE)\n",
    "df.head()"
   ]
  },
  {
   "cell_type": "code",
   "execution_count": null,
   "id": "875437f5-5918-429d-bb6a-e4672cbc7a28",
   "metadata": {
    "tags": []
   },
   "outputs": [],
   "source": [
    "response = dps.pseudonymize(df, fields=[\"fnr\"])\n",
    "pseudo_df = pd.DataFrame(response.json())\n",
    "pseudo_df.head()"
   ]
  },
  {
   "cell_type": "markdown",
   "id": "76f8fb65-349b-439e-9e95-e69d72105360",
   "metadata": {},
   "source": [
    "# Case: File handle"
   ]
  },
  {
   "cell_type": "code",
   "execution_count": null,
   "id": "99c61b0a-be1b-4650-a2ee-7683f660e508",
   "metadata": {
    "tags": []
   },
   "outputs": [],
   "source": [
    "with open(DATA_FILE, \"rb\") as data:\n",
    "    pseudo_df = pd.DataFrame(dps.pseudonymize(data, fields=[\"fnr\"]).json())\n",
    "    pseudo_df.head()"
   ]
  }
 ],
 "metadata": {
  "kernelspec": {
   "display_name": "dapla-toolbelt-pseudo-s0-eGPKC-py3.10",
   "language": "python",
   "name": "python3"
  },
  "language_info": {
   "codemirror_mode": {
    "name": "ipython",
    "version": 3
   },
   "file_extension": ".py",
   "mimetype": "text/x-python",
   "name": "python",
   "nbconvert_exporter": "python",
   "pygments_lexer": "ipython3",
   "version": "3.10.10"
  }
 },
 "nbformat": 4,
 "nbformat_minor": 5
}
