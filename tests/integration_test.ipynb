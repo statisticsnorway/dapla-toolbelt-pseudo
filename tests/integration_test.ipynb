{
 "cells": [
  {
   "cell_type": "code",
   "execution_count": null,
   "id": "fcc3b381-e9a8-4376-946f-d5aae4c7844f",
   "metadata": {
    "tags": []
   },
   "outputs": [],
   "source": [
    "import dapla_pseudo as dps\n",
    "import pandas as pd\n",
    "DATA_FILE = \"data/personer.json\""
   ]
  },
  {
   "cell_type": "markdown",
   "id": "11a6cb10-568c-464b-b6a1-886e29f4eba1",
   "metadata": {},
   "source": [
    "# Case: String path to data file"
   ]
  },
  {
   "cell_type": "code",
   "execution_count": null,
   "id": "552106c1-3824-47ca-9566-4dd34ef8f79a",
   "metadata": {
    "tags": []
   },
   "outputs": [],
   "source": [
    "response = dps.pseudonymize(DATA_FILE, fields=[\"fnr\"])\n",
    "pd.DataFrame(response.json()).head()"
   ]
  },
  {
   "cell_type": "markdown",
   "id": "6acdd9d8-8351-430b-94b7-3dace07e919e",
   "metadata": {},
   "source": [
    "# Case: Dataframe"
   ]
  },
  {
   "cell_type": "code",
   "execution_count": null,
   "id": "83456f33-245f-47d5-97ed-67aab8179c85",
   "metadata": {
    "tags": []
   },
   "outputs": [],
   "source": [
    "df = pd.read_json(DATA_FILE)\n",
    "df.head()"
   ]
  },
  {
   "cell_type": "code",
   "execution_count": null,
   "id": "875437f5-5918-429d-bb6a-e4672cbc7a28",
   "metadata": {
    "tags": []
   },
   "outputs": [],
   "source": [
    "response = dps.pseudonymize(df, fields=[\"fnr\"])\n",
    "pseudo_df = pd.DataFrame(response.json())\n",
    "pseudo_df.head()"
   ]
  },
  {
   "cell_type": "markdown",
   "id": "76f8fb65-349b-439e-9e95-e69d72105360",
   "metadata": {},
   "source": [
    "# Case: File handle"
   ]
  },
  {
   "cell_type": "code",
   "execution_count": null,
   "id": "99c61b0a-be1b-4650-a2ee-7683f660e508",
   "metadata": {
    "tags": []
   },
   "outputs": [],
   "source": [
    "with open(DATA_FILE, \"rb\") as data:\n",
    "    pseudo_df = pd.DataFrame(dps.pseudonymize(data, fields=[\"fnr\"]).json())\n",
    "    pseudo_df.head()"
   ]
  }
 ],
 "metadata": {
  "kernelspec": {
   "display_name": "dapla-toolbelt-pseudo-s0-eGPKC-py3.10",
   "language": "python",
   "name": "python3"
  },
  "language_info": {
   "codemirror_mode": {
    "name": "ipython",
    "version": 3
   },
   "file_extension": ".py",
   "mimetype": "text/x-python",
   "name": "python",
   "nbconvert_exporter": "python",
   "pygments_lexer": "ipython3",
   "version": "3.10.10"
  }
 },
 "nbformat": 4,
 "nbformat_minor": 5
}
