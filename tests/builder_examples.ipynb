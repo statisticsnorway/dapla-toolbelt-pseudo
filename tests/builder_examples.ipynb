{
 "cells": [
  {
   "cell_type": "code",
   "execution_count": 2,
   "id": "fcc3b381-e9a8-4376-946f-d5aae4c7844f",
   "metadata": {
    "tags": []
   },
   "outputs": [
    {
     "data": {
      "text/html": [
       "<div>\n",
       "<style scoped>\n",
       "    .dataframe tbody tr th:only-of-type {\n",
       "        vertical-align: middle;\n",
       "    }\n",
       "\n",
       "    .dataframe tbody tr th {\n",
       "        vertical-align: top;\n",
       "    }\n",
       "\n",
       "    .dataframe thead th {\n",
       "        text-align: right;\n",
       "    }\n",
       "</style>\n",
       "<table border=\"1\" class=\"dataframe\">\n",
       "  <thead>\n",
       "    <tr style=\"text-align: right;\">\n",
       "      <th></th>\n",
       "      <th>fnr</th>\n",
       "      <th>fornavn</th>\n",
       "      <th>etternavn</th>\n",
       "      <th>kjonn</th>\n",
       "      <th>fodselsdato</th>\n",
       "    </tr>\n",
       "  </thead>\n",
       "  <tbody>\n",
       "    <tr>\n",
       "      <th>0</th>\n",
       "      <td>11854898347</td>\n",
       "      <td>Donald</td>\n",
       "      <td>Duck</td>\n",
       "      <td>M</td>\n",
       "      <td>020995</td>\n",
       "    </tr>\n",
       "    <tr>\n",
       "      <th>1</th>\n",
       "      <td>01839899544</td>\n",
       "      <td>Mikke</td>\n",
       "      <td>Mus</td>\n",
       "      <td>M</td>\n",
       "      <td>060970</td>\n",
       "    </tr>\n",
       "    <tr>\n",
       "      <th>2</th>\n",
       "      <td>16910599481</td>\n",
       "      <td>Anton</td>\n",
       "      <td>Duck</td>\n",
       "      <td>M</td>\n",
       "      <td>180999</td>\n",
       "    </tr>\n",
       "  </tbody>\n",
       "</table>\n",
       "</div>"
      ],
      "text/plain": [
       "           fnr fornavn etternavn kjonn fodselsdato\n",
       "0  11854898347  Donald      Duck     M      020995\n",
       "1  01839899544   Mikke       Mus     M      060970\n",
       "2  16910599481   Anton      Duck     M      180999"
      ]
     },
     "execution_count": 2,
     "metadata": {},
     "output_type": "execute_result"
    }
   ],
   "source": [
    "from io import StringIO\n",
    "from pathlib import Path\n",
    "\n",
    "from dapla_pseudo import PseudoData\n",
    "import pandas as pd\n",
    "\n",
    "JSON_FILE = \"data/personer.json\"\n",
    "CSV_FILE = \"data/personer.csv\"\n",
    "\n",
    "df = pd.read_json(\n",
    "    JSON_FILE,\n",
    "    dtype={\n",
    "        \"fnr\": \"string\",\n",
    "        \"fornavn\": \"string\",\n",
    "        \"etternavn\": \"string\",\n",
    "        \"kjonn\": \"category\",\n",
    "        \"fodselsdato\": \"string\",\n",
    "    },\n",
    ")\n",
    "df.head()"
   ]
  },
  {
   "cell_type": "markdown",
   "id": "11a6cb10-568c-464b-b6a1-886e29f4eba1",
   "metadata": {},
   "source": [
    "# Case: Single field default encryption (daead)"
   ]
  },
  {
   "cell_type": "code",
   "execution_count": 3,
   "id": "552106c1-3824-47ca-9566-4dd34ef8f79a",
   "metadata": {
    "tags": []
   },
   "outputs": [
    {
     "ename": "KeyError",
     "evalue": "'LOCAL_USER_PATH'",
     "output_type": "error",
     "traceback": [
      "\u001b[0;31m---------------------------------------------------------------------------\u001b[0m",
      "\u001b[0;31mKeyError\u001b[0m                                  Traceback (most recent call last)",
      "Cell \u001b[0;32mIn[3], line 2\u001b[0m\n\u001b[1;32m      1\u001b[0m result \u001b[39m=\u001b[39m (\n\u001b[0;32m----> 2\u001b[0m     PseudoData\u001b[39m.\u001b[39;49mfrom_pandas(df)\u001b[39m.\u001b[39;49mon_field(\u001b[39m\"\u001b[39;49m\u001b[39mfnr\u001b[39;49m\u001b[39m\"\u001b[39;49m)\u001b[39m.\u001b[39;49mpseudonymize()\n\u001b[1;32m      3\u001b[0m )\n\u001b[1;32m      4\u001b[0m result\u001b[39m.\u001b[39mto_polars()\u001b[39m.\u001b[39mhead()\n",
      "File \u001b[0;32m~/work/dapla-toolbelt-pseudo/src/dapla_pseudo/v1/builder.py:182\u001b[0m, in \u001b[0;36mPseudoData._Pseudonymizer.pseudonymize\u001b[0;34m(self, preserve_formatting, with_custom_function, with_custom_keyset, version_timestamp)\u001b[0m\n\u001b[1;32m    179\u001b[0m \u001b[39mif\u001b[39;00m with_custom_keyset \u001b[39mis\u001b[39;00m \u001b[39mnot\u001b[39;00m \u001b[39mNone\u001b[39;00m:\n\u001b[1;32m    180\u001b[0m     \u001b[39mself\u001b[39m\u001b[39m.\u001b[39m_pseudo_keyset \u001b[39m=\u001b[39m with_custom_keyset\n\u001b[0;32m--> 182\u001b[0m \u001b[39mreturn\u001b[39;00m \u001b[39mself\u001b[39;49m\u001b[39m.\u001b[39;49m_pseudonymize_field()\n",
      "File \u001b[0;32m~/work/dapla-toolbelt-pseudo/src/dapla_pseudo/v1/builder.py:224\u001b[0m, in \u001b[0;36mPseudoData._Pseudonymizer._pseudonymize_field\u001b[0;34m(self)\u001b[0m\n\u001b[1;32m    222\u001b[0m \u001b[39m# Wait for the futures to finish, then add each field to pseudonymized_field map\u001b[39;00m\n\u001b[1;32m    223\u001b[0m \u001b[39mfor\u001b[39;00m future \u001b[39min\u001b[39;00m concurrent\u001b[39m.\u001b[39mfutures\u001b[39m.\u001b[39mas_completed(futures):\n\u001b[0;32m--> 224\u001b[0m     result \u001b[39m=\u001b[39m future\u001b[39m.\u001b[39;49mresult()\n\u001b[1;32m    225\u001b[0m     \u001b[39m# Each future result contains the field_name (0) and the pseudonymize_values (1)\u001b[39;00m\n\u001b[1;32m    226\u001b[0m     pseudonymized_field[result[\u001b[39m0\u001b[39m]] \u001b[39m=\u001b[39m result[\u001b[39m1\u001b[39m]\n",
      "File \u001b[0;32m/opt/homebrew/Cellar/python@3.11/3.11.5/Frameworks/Python.framework/Versions/3.11/lib/python3.11/concurrent/futures/_base.py:449\u001b[0m, in \u001b[0;36mFuture.result\u001b[0;34m(self, timeout)\u001b[0m\n\u001b[1;32m    447\u001b[0m     \u001b[39mraise\u001b[39;00m CancelledError()\n\u001b[1;32m    448\u001b[0m \u001b[39melif\u001b[39;00m \u001b[39mself\u001b[39m\u001b[39m.\u001b[39m_state \u001b[39m==\u001b[39m FINISHED:\n\u001b[0;32m--> 449\u001b[0m     \u001b[39mreturn\u001b[39;00m \u001b[39mself\u001b[39;49m\u001b[39m.\u001b[39;49m__get_result()\n\u001b[1;32m    451\u001b[0m \u001b[39mself\u001b[39m\u001b[39m.\u001b[39m_condition\u001b[39m.\u001b[39mwait(timeout)\n\u001b[1;32m    453\u001b[0m \u001b[39mif\u001b[39;00m \u001b[39mself\u001b[39m\u001b[39m.\u001b[39m_state \u001b[39min\u001b[39;00m [CANCELLED, CANCELLED_AND_NOTIFIED]:\n",
      "File \u001b[0;32m/opt/homebrew/Cellar/python@3.11/3.11.5/Frameworks/Python.framework/Versions/3.11/lib/python3.11/concurrent/futures/_base.py:401\u001b[0m, in \u001b[0;36mFuture.__get_result\u001b[0;34m(self)\u001b[0m\n\u001b[1;32m    399\u001b[0m \u001b[39mif\u001b[39;00m \u001b[39mself\u001b[39m\u001b[39m.\u001b[39m_exception:\n\u001b[1;32m    400\u001b[0m     \u001b[39mtry\u001b[39;00m:\n\u001b[0;32m--> 401\u001b[0m         \u001b[39mraise\u001b[39;00m \u001b[39mself\u001b[39m\u001b[39m.\u001b[39m_exception\n\u001b[1;32m    402\u001b[0m     \u001b[39mfinally\u001b[39;00m:\n\u001b[1;32m    403\u001b[0m         \u001b[39m# Break a reference cycle with the exception in self._exception\u001b[39;00m\n\u001b[1;32m    404\u001b[0m         \u001b[39mself\u001b[39m \u001b[39m=\u001b[39m \u001b[39mNone\u001b[39;00m\n",
      "File \u001b[0;32m/opt/homebrew/Cellar/python@3.11/3.11.5/Frameworks/Python.framework/Versions/3.11/lib/python3.11/concurrent/futures/thread.py:58\u001b[0m, in \u001b[0;36m_WorkItem.run\u001b[0;34m(self)\u001b[0m\n\u001b[1;32m     55\u001b[0m     \u001b[39mreturn\u001b[39;00m\n\u001b[1;32m     57\u001b[0m \u001b[39mtry\u001b[39;00m:\n\u001b[0;32m---> 58\u001b[0m     result \u001b[39m=\u001b[39m \u001b[39mself\u001b[39;49m\u001b[39m.\u001b[39;49mfn(\u001b[39m*\u001b[39;49m\u001b[39mself\u001b[39;49m\u001b[39m.\u001b[39;49margs, \u001b[39m*\u001b[39;49m\u001b[39m*\u001b[39;49m\u001b[39mself\u001b[39;49m\u001b[39m.\u001b[39;49mkwargs)\n\u001b[1;32m     59\u001b[0m \u001b[39mexcept\u001b[39;00m \u001b[39mBaseException\u001b[39;00m \u001b[39mas\u001b[39;00m exc:\n\u001b[1;32m     60\u001b[0m     \u001b[39mself\u001b[39m\u001b[39m.\u001b[39mfuture\u001b[39m.\u001b[39mset_exception(exc)\n",
      "File \u001b[0;32m~/work/dapla-toolbelt-pseudo/src/dapla_pseudo/v1/builder.py:206\u001b[0m, in \u001b[0;36mPseudoData._Pseudonymizer._pseudonymize_field.<locals>.pseudonymize_field_runner\u001b[0;34m(field_name, series)\u001b[0m\n\u001b[1;32m    194\u001b[0m \u001b[39mdef\u001b[39;00m \u001b[39mpseudonymize_field_runner\u001b[39m(field_name: \u001b[39mstr\u001b[39m, series: pl\u001b[39m.\u001b[39mSeries) \u001b[39m-\u001b[39m\u001b[39m>\u001b[39m \u001b[39mtuple\u001b[39m[\u001b[39mstr\u001b[39m, pl\u001b[39m.\u001b[39mSeries]:\n\u001b[1;32m    195\u001b[0m \u001b[39m    \u001b[39m\u001b[39m\"\"\"Function that performs the pseudonymization on a pandas Series.\u001b[39;00m\n\u001b[1;32m    196\u001b[0m \n\u001b[1;32m    197\u001b[0m \u001b[39m    Args:\u001b[39;00m\n\u001b[0;32m   (...)\u001b[0m\n\u001b[1;32m    202\u001b[0m \u001b[39m        tuple[str,pl.Series]: A tuple containing the field_name and the corresponding series.\u001b[39;00m\n\u001b[1;32m    203\u001b[0m \u001b[39m    \"\"\"\u001b[39;00m\n\u001b[1;32m    204\u001b[0m     \u001b[39mreturn\u001b[39;00m (\n\u001b[1;32m    205\u001b[0m         field_name,\n\u001b[0;32m--> 206\u001b[0m         _do_pseudonymize_field(\n\u001b[1;32m    207\u001b[0m             path\u001b[39m=\u001b[39;49m\u001b[39m\"\u001b[39;49m\u001b[39mpseudonymize/field\u001b[39;49m\u001b[39m\"\u001b[39;49m,\n\u001b[1;32m    208\u001b[0m             field_name\u001b[39m=\u001b[39;49mfield_name,\n\u001b[1;32m    209\u001b[0m             values\u001b[39m=\u001b[39;49mseries\u001b[39m.\u001b[39;49mto_list(),\n\u001b[1;32m    210\u001b[0m             pseudo_func\u001b[39m=\u001b[39;49m\u001b[39mself\u001b[39;49m\u001b[39m.\u001b[39;49m_pseudo_func,\n\u001b[1;32m    211\u001b[0m             metadata_map\u001b[39m=\u001b[39;49m\u001b[39mself\u001b[39;49m\u001b[39m.\u001b[39;49m_metadata,\n\u001b[1;32m    212\u001b[0m             keyset\u001b[39m=\u001b[39;49m\u001b[39mself\u001b[39;49m\u001b[39m.\u001b[39;49m_pseudo_keyset,\n\u001b[1;32m    213\u001b[0m         ),\n\u001b[1;32m    214\u001b[0m     )\n",
      "File \u001b[0;32m~/work/dapla-toolbelt-pseudo/src/dapla_pseudo/v1/builder.py:255\u001b[0m, in \u001b[0;36m_do_pseudonymize_field\u001b[0;34m(path, field_name, values, pseudo_func, metadata_map, keyset)\u001b[0m\n\u001b[1;32m    234\u001b[0m \u001b[39mdef\u001b[39;00m \u001b[39m_do_pseudonymize_field\u001b[39m(\n\u001b[1;32m    235\u001b[0m     path: \u001b[39mstr\u001b[39m,\n\u001b[1;32m    236\u001b[0m     field_name: \u001b[39mstr\u001b[39m,\n\u001b[0;32m   (...)\u001b[0m\n\u001b[1;32m    240\u001b[0m     keyset: Optional[PseudoKeyset] \u001b[39m=\u001b[39m \u001b[39mNone\u001b[39;00m,\n\u001b[1;32m    241\u001b[0m ) \u001b[39m-\u001b[39m\u001b[39m>\u001b[39m pl\u001b[39m.\u001b[39mSeries:\n\u001b[1;32m    242\u001b[0m \u001b[39m    \u001b[39m\u001b[39m\"\"\"Makes pseudonymization API calls for a list of values for a specific field and processes it into a polars Series.\u001b[39;00m\n\u001b[1;32m    243\u001b[0m \n\u001b[1;32m    244\u001b[0m \u001b[39m    Args:\u001b[39;00m\n\u001b[0;32m   (...)\u001b[0m\n\u001b[1;32m    253\u001b[0m \u001b[39m        pl.Series: A pandas Series containing the pseudonymized values.\u001b[39;00m\n\u001b[1;32m    254\u001b[0m \u001b[39m    \"\"\"\u001b[39;00m\n\u001b[0;32m--> 255\u001b[0m     response: requests\u001b[39m.\u001b[39mResponse \u001b[39m=\u001b[39m _client()\u001b[39m.\u001b[39;49m_post_to_field_endpoint(\n\u001b[1;32m    256\u001b[0m         path, field_name, values, pseudo_func, keyset, stream\u001b[39m=\u001b[39;49m\u001b[39mTrue\u001b[39;49;00m\n\u001b[1;32m    257\u001b[0m     )\n\u001b[1;32m    258\u001b[0m     metadata_map[field_name] \u001b[39m=\u001b[39m \u001b[39mstr\u001b[39m(response\u001b[39m.\u001b[39mheaders\u001b[39m.\u001b[39mget(\u001b[39m\"\u001b[39m\u001b[39mmetadata\u001b[39m\u001b[39m\"\u001b[39m) \u001b[39mor\u001b[39;00m \u001b[39m\"\u001b[39m\u001b[39m\"\u001b[39m)\n\u001b[1;32m    260\u001b[0m     \u001b[39m# The response content is received as a buffered byte stream from the server.\u001b[39;00m\n\u001b[1;32m    261\u001b[0m     \u001b[39m# We decode the content using UTF-8, which gives us a List[List[str]] structure.\u001b[39;00m\n\u001b[1;32m    262\u001b[0m     \u001b[39m# To obtain a single list of strings, we combine the values from the nested sublists into a flat list.\u001b[39;00m\n",
      "File \u001b[0;32m~/work/dapla-toolbelt-pseudo/src/dapla_pseudo/v1/client.py:242\u001b[0m, in \u001b[0;36mPseudoClient._post_to_field_endpoint\u001b[0;34m(self, path, field_name, values, pseudo_func, keyset, stream)\u001b[0m\n\u001b[1;32m    234\u001b[0m \u001b[39mif\u001b[39;00m keyset:\n\u001b[1;32m    235\u001b[0m     request[\u001b[39m\"\u001b[39m\u001b[39mkeyset\u001b[39m\u001b[39m\"\u001b[39m] \u001b[39m=\u001b[39m {\n\u001b[1;32m    236\u001b[0m         \u001b[39m\"\u001b[39m\u001b[39mkekUri\u001b[39m\u001b[39m\"\u001b[39m: keyset\u001b[39m.\u001b[39mkek_uri,\n\u001b[1;32m    237\u001b[0m         \u001b[39m\"\u001b[39m\u001b[39mencryptedKeyset\u001b[39m\u001b[39m\"\u001b[39m: keyset\u001b[39m.\u001b[39mencrypted_keyset,\n\u001b[1;32m    238\u001b[0m         \u001b[39m\"\u001b[39m\u001b[39mkeysetInfo\u001b[39m\u001b[39m\"\u001b[39m: keyset\u001b[39m.\u001b[39mkeyset_info,\n\u001b[1;32m    239\u001b[0m     }\n\u001b[1;32m    240\u001b[0m response \u001b[39m=\u001b[39m requests\u001b[39m.\u001b[39mpost(\n\u001b[1;32m    241\u001b[0m     url\u001b[39m=\u001b[39m\u001b[39mf\u001b[39m\u001b[39m\"\u001b[39m\u001b[39m{\u001b[39;00m\u001b[39mself\u001b[39m\u001b[39m.\u001b[39mpseudo_service_url\u001b[39m}\u001b[39;00m\u001b[39m/\u001b[39m\u001b[39m{\u001b[39;00mpath\u001b[39m}\u001b[39;00m\u001b[39m\"\u001b[39m,\n\u001b[0;32m--> 242\u001b[0m     headers\u001b[39m=\u001b[39m{\u001b[39m\"\u001b[39m\u001b[39mAuthorization\u001b[39m\u001b[39m\"\u001b[39m: \u001b[39mf\u001b[39m\u001b[39m\"\u001b[39m\u001b[39mBearer \u001b[39m\u001b[39m{\u001b[39;00m\u001b[39mself\u001b[39;49m\u001b[39m.\u001b[39;49m__auth_token()\u001b[39m}\u001b[39;00m\u001b[39m\"\u001b[39m, \u001b[39m\"\u001b[39m\u001b[39mContent-Type\u001b[39m\u001b[39m\"\u001b[39m: \u001b[39mstr\u001b[39m(Mimetypes\u001b[39m.\u001b[39mJSON)},\n\u001b[1;32m    243\u001b[0m     json\u001b[39m=\u001b[39mrequest,\n\u001b[1;32m    244\u001b[0m     stream\u001b[39m=\u001b[39mstream,\n\u001b[1;32m    245\u001b[0m     timeout\u001b[39m=\u001b[39m\u001b[39m30\u001b[39m,  \u001b[39m# seconds\u001b[39;00m\n\u001b[1;32m    246\u001b[0m )\n\u001b[1;32m    247\u001b[0m response\u001b[39m.\u001b[39mraise_for_status()\n\u001b[1;32m    248\u001b[0m \u001b[39mreturn\u001b[39;00m response\n",
      "File \u001b[0;32m~/work/dapla-toolbelt-pseudo/src/dapla_pseudo/v1/client.py:39\u001b[0m, in \u001b[0;36mPseudoClient.__auth_token\u001b[0;34m(self)\u001b[0m\n\u001b[1;32m     38\u001b[0m \u001b[39mdef\u001b[39;00m \u001b[39m__auth_token\u001b[39m(\u001b[39mself\u001b[39m) \u001b[39m-\u001b[39m\u001b[39m>\u001b[39m \u001b[39mstr\u001b[39m:\n\u001b[0;32m---> 39\u001b[0m     \u001b[39mreturn\u001b[39;00m \u001b[39mstr\u001b[39m(AuthClient\u001b[39m.\u001b[39;49mfetch_personal_token()) \u001b[39mif\u001b[39;00m \u001b[39mself\u001b[39m\u001b[39m.\u001b[39mstatic_auth_token \u001b[39mis\u001b[39;00m \u001b[39mNone\u001b[39;00m \u001b[39melse\u001b[39;00m \u001b[39mstr\u001b[39m(\u001b[39mself\u001b[39m\u001b[39m.\u001b[39mstatic_auth_token)\n",
      "File \u001b[0;32m~/Library/Caches/pypoetry/virtualenvs/dapla-toolbelt-pseudo-mC83Oa7x-py3.11/lib/python3.11/site-packages/dapla/auth.py:50\u001b[0m, in \u001b[0;36mAuthClient.fetch_personal_token\u001b[0;34m()\u001b[0m\n\u001b[1;32m     47\u001b[0m \u001b[39m@staticmethod\u001b[39m\n\u001b[1;32m     48\u001b[0m \u001b[39mdef\u001b[39;00m \u001b[39mfetch_personal_token\u001b[39m():\n\u001b[1;32m     49\u001b[0m     \u001b[39mtry\u001b[39;00m:\n\u001b[0;32m---> 50\u001b[0m         \u001b[39mreturn\u001b[39;00m AuthClient\u001b[39m.\u001b[39;49mfetch_local_user()[\u001b[39m'\u001b[39m\u001b[39maccess_token\u001b[39m\u001b[39m'\u001b[39m]\n\u001b[1;32m     51\u001b[0m     \u001b[39mexcept\u001b[39;00m AuthError \u001b[39mas\u001b[39;00m err:\n\u001b[1;32m     52\u001b[0m         err\u001b[39m.\u001b[39mprint_warning()\n",
      "File \u001b[0;32m~/Library/Caches/pypoetry/virtualenvs/dapla-toolbelt-pseudo-mC83Oa7x-py3.11/lib/python3.11/site-packages/dapla/auth.py:38\u001b[0m, in \u001b[0;36mAuthClient.fetch_local_user\u001b[0;34m()\u001b[0m\n\u001b[1;32m     35\u001b[0m \u001b[39melse\u001b[39;00m:\n\u001b[1;32m     36\u001b[0m     \u001b[39m# Helps getting the correct ssl configs\u001b[39;00m\n\u001b[1;32m     37\u001b[0m     hub \u001b[39m=\u001b[39m HubAuth()\n\u001b[0;32m---> 38\u001b[0m     response \u001b[39m=\u001b[39m requests\u001b[39m.\u001b[39mget(os\u001b[39m.\u001b[39;49menviron[\u001b[39m'\u001b[39;49m\u001b[39mLOCAL_USER_PATH\u001b[39;49m\u001b[39m'\u001b[39;49m],\n\u001b[1;32m     39\u001b[0m                             headers\u001b[39m=\u001b[39m{\n\u001b[1;32m     40\u001b[0m                                 \u001b[39m'\u001b[39m\u001b[39mAuthorization\u001b[39m\u001b[39m'\u001b[39m: \u001b[39m'\u001b[39m\u001b[39mtoken \u001b[39m\u001b[39m%s\u001b[39;00m\u001b[39m'\u001b[39m \u001b[39m%\u001b[39m hub\u001b[39m.\u001b[39mapi_token\n\u001b[1;32m     41\u001b[0m                             }, cert\u001b[39m=\u001b[39m(hub\u001b[39m.\u001b[39mcertfile, hub\u001b[39m.\u001b[39mkeyfile), verify\u001b[39m=\u001b[39mhub\u001b[39m.\u001b[39mclient_ca, allow_redirects\u001b[39m=\u001b[39m\u001b[39mFalse\u001b[39;00m)\n\u001b[1;32m     42\u001b[0m     \u001b[39mif\u001b[39;00m response\u001b[39m.\u001b[39mstatus_code \u001b[39m==\u001b[39m \u001b[39m200\u001b[39m:\n\u001b[1;32m     43\u001b[0m         \u001b[39mreturn\u001b[39;00m response\u001b[39m.\u001b[39mjson()\n",
      "File \u001b[0;32m<frozen os>:679\u001b[0m, in \u001b[0;36m__getitem__\u001b[0;34m(self, key)\u001b[0m\n",
      "\u001b[0;31mKeyError\u001b[0m: 'LOCAL_USER_PATH'"
     ]
    }
   ],
   "source": [
    "result = (\n",
    "    PseudoData.from_pandas(df).on_field(\"fnr\").pseudonymize()\n",
    ")\n",
    "result.to_polars().head()"
   ]
  },
  {
   "cell_type": "markdown",
   "id": "0953789f-1ed6-4f74-919b-b92fde89a916",
   "metadata": {},
   "source": [
    "# Case: Single field sid mapping"
   ]
  },
  {
   "cell_type": "code",
   "execution_count": null,
   "id": "070c3567-ed55-4a10-8891-d5baaa8dec8b",
   "metadata": {
    "tags": []
   },
   "outputs": [],
   "source": [
    "result = (\n",
    "    PseudoData.from_pandas(df)\n",
    "    .on_field(\"fnr\")\n",
    "    .map_to_stable_id()\n",
    "    .pseudonymize()\n",
    ")\n",
    "result.to_polars().head()"
   ]
  },
  {
   "cell_type": "markdown",
   "id": "69689655-f2f2-4d4a-a4fe-5f031c65aaf0",
   "metadata": {},
   "source": [
    "# Case: Single field FPE (used for e.g. existing stable ID/snr/sid)"
   ]
  },
  {
   "cell_type": "code",
   "execution_count": null,
   "id": "ad3ef370-82f2-4993-9f0d-164bb40d4334",
   "metadata": {
    "tags": []
   },
   "outputs": [],
   "source": [
    "result = (\n",
    "    PseudoData.from_pandas(df)\n",
    "    .on_field(\"fnr\")\n",
    "    .pseudonymize(preserve_formatting=True)\n",
    ")\n",
    "result.to_polars().head()"
   ]
  },
  {
   "cell_type": "markdown",
   "id": "c8410675-a26f-4b6c-98c9-04108c82b474",
   "metadata": {},
   "source": [
    "# Case: Multiple fields default encryption (daead)"
   ]
  },
  {
   "cell_type": "code",
   "execution_count": null,
   "id": "a43308ab-7418-4c7b-900f-f222a66b3d9f",
   "metadata": {
    "tags": []
   },
   "outputs": [],
   "source": [
    "result = (\n",
    "    PseudoData.from_pandas(df)\n",
    "    .on_fields(\"fornavn\", \"etternavn\", \"fodselsdato\")\n",
    "    .pseudonymize()\n",
    ")\n",
    "result.to_polars().head()"
   ]
  },
  {
   "cell_type": "markdown",
   "id": "74948ca1-66a2-42f7-ba81-05480fcc964b",
   "metadata": {},
   "source": [
    "# Case: Chaining calls\n",
    "Calls may simply be chained together to apply different pseudonymization to different fields."
   ]
  },
  {
   "cell_type": "code",
   "execution_count": null,
   "id": "ec81dd18-5f90-4262-8603-7073e89f6527",
   "metadata": {
    "tags": []
   },
   "outputs": [],
   "source": [
    "result = (\n",
    "    PseudoData.from_pandas(df)\n",
    "    .on_field(\"fnr\")\n",
    "    .map_to_stable_id()\n",
    "    .pseudonymize()\n",
    ")\n",
    "result = (\n",
    "    PseudoData.from_pandas(result.to_polars())\n",
    "    .on_fields(\"fornavn\", \"etternavn\", \"fodselsdato\")\n",
    "    .pseudonymize()\n",
    ")\n",
    "result.to_polars().head()"
   ]
  }
 ],
 "metadata": {
  "kernelspec": {
   "display_name": "dapla-toolbelt-pseudo-mC83Oa7x-py3.11",
   "language": "python",
   "name": "python3"
  },
  "language_info": {
   "codemirror_mode": {
    "name": "ipython",
    "version": 3
   },
   "file_extension": ".py",
   "mimetype": "text/x-python",
   "name": "python",
   "nbconvert_exporter": "python",
   "pygments_lexer": "ipython3",
   "version": "3.11.5"
  }
 },
 "nbformat": 4,
 "nbformat_minor": 5
}
