{
 "cells": [
  {
   "cell_type": "code",
   "execution_count": null,
   "id": "fcc3b381-e9a8-4376-946f-d5aae4c7844f",
   "metadata": {
    "tags": []
   },
   "outputs": [],
   "source": [
    "from io import StringIO\n",
    "from pathlib import Path\n",
    "\n",
    "from dapla_pseudo import PseudoData\n",
    "import pandas as pd\n",
    "\n",
    "JSON_FILE = \"data/personer.json\"\n",
    "CSV_FILE = \"data/personer.csv\"\n",
    "\n",
    "df = pd.read_json(\n",
    "    JSON_FILE,\n",
    "    dtype={\n",
    "        \"fnr\": \"string\",\n",
    "        \"fornavn\": \"string\",\n",
    "        \"etternavn\": \"string\",\n",
    "        \"kjonn\": \"category\",\n",
    "        \"fodselsdato\": \"string\",\n",
    "    },\n",
    ")\n",
    "df.head()"
   ]
  },
  {
   "cell_type": "markdown",
   "id": "11a6cb10-568c-464b-b6a1-886e29f4eba1",
   "metadata": {},
   "source": [
    "# Case: Single field default encryption (daead)"
   ]
  },
  {
   "cell_type": "code",
   "execution_count": null,
   "id": "552106c1-3824-47ca-9566-4dd34ef8f79a",
   "metadata": {
    "tags": []
   },
   "outputs": [],
   "source": [
    "result = (\n",
    "    PseudoData.from_pandas(df).on_field(\"fnr\").apply_default_encryption().pseudonymize()\n",
    ")\n",
    "result.dataframe.head()"
   ]
  },
  {
   "cell_type": "markdown",
   "id": "0953789f-1ed6-4f74-919b-b92fde89a916",
   "metadata": {},
   "source": [
    "# Case: Single field sid mapping"
   ]
  },
  {
   "cell_type": "code",
   "execution_count": null,
   "id": "070c3567-ed55-4a10-8891-d5baaa8dec8b",
   "metadata": {
    "tags": []
   },
   "outputs": [],
   "source": [
    "result = (\n",
    "    PseudoData.from_pandas(df)\n",
    "    .on_field(\"fnr\")\n",
    "    .map_to_stable_id_then_apply_fpe()\n",
    "    .pseudonymize()\n",
    ")\n",
    "result.dataframe.head()"
   ]
  },
  {
   "cell_type": "markdown",
   "id": "c8410675-a26f-4b6c-98c9-04108c82b474",
   "metadata": {},
   "source": [
    "# Case: Multiple fields default encryption (daead)"
   ]
  },
  {
   "cell_type": "code",
   "execution_count": null,
   "id": "a43308ab-7418-4c7b-900f-f222a66b3d9f",
   "metadata": {
    "tags": []
   },
   "outputs": [],
   "source": [
    "result = (\n",
    "    PseudoData.from_pandas(df)\n",
    "    .on_fields(\"fornavn\", \"etternavn\", \"fodselsdato\")\n",
    "    .apply_default_encryption()\n",
    "    .pseudonymize()\n",
    ")\n",
    "result.dataframe.head()"
   ]
  },
  {
   "cell_type": "markdown",
   "id": "74948ca1-66a2-42f7-ba81-05480fcc964b",
   "metadata": {},
   "source": [
    "# Case: Chaining calls\n",
    "Calls may simply be chained together to apply different pseudonymization to different fields."
   ]
  },
  {
   "cell_type": "code",
   "execution_count": null,
   "id": "ec81dd18-5f90-4262-8603-7073e89f6527",
   "metadata": {
    "tags": []
   },
   "outputs": [],
   "source": [
    "result = (\n",
    "    PseudoData.from_pandas(df)\n",
    "    .on_field(\"fnr\")\n",
    "    .map_to_stable_id_then_apply_fpe()\n",
    "    .pseudonymize()\n",
    ")\n",
    "result = (\n",
    "    PseudoData.from_pandas(result.dataframe)\n",
    "    .on_fields(\"fornavn\", \"etternavn\", \"fodselsdato\")\n",
    "    .apply_default_encryption()\n",
    "    .pseudonymize()\n",
    ")\n",
    "result.dataframe.head()"
   ]
  }
 ],
 "metadata": {
  "language_info": {
   "codemirror_mode": {
    "name": "ipython"
   },
   "file_extension": ".py",
   "mimetype": "text/x-python",
   "name": "python",
   "nbconvert_exporter": "python"
  }
 },
 "nbformat": 4,
 "nbformat_minor": 5
}
