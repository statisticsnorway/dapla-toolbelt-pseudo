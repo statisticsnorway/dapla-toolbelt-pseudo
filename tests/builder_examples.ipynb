{
 "cells": [
  {
   "cell_type": "code",
   "execution_count": null,
   "id": "fcc3b381-e9a8-4376-946f-d5aae4c7844f",
   "metadata": {
    "tags": []
   },
   "outputs": [],
   "source": [
    "from io import StringIO\n",
    "from pathlib import Path\n",
    "\n",
    "from dapla_pseudo import PseudoData\n",
    "import pandas as pd\n",
    "\n",
    "JSON_FILE = \"data/personer.json\"\n",
    "CSV_FILE = \"data/personer.csv\"\n",
    "\n",
    "df = pd.read_json(\n",
    "    JSON_FILE,\n",
    "    dtype={\n",
    "        \"fnr\": \"string\",\n",
    "        \"fornavn\": \"string\",\n",
    "        \"etternavn\": \"string\",\n",
    "        \"kjonn\": \"category\",\n",
    "        \"fodselsdato\": \"string\",\n",
    "    },\n",
    ")\n",
    "df.head()"
   ]
  },
  {
   "cell_type": "markdown",
   "id": "11a6cb10-568c-464b-b6a1-886e29f4eba1",
   "metadata": {},
   "source": [
    "# Case: Single field, default encryption (DAEAD)"
   ]
  },
  {
   "cell_type": "code",
   "execution_count": null,
   "id": "552106c1-3824-47ca-9566-4dd34ef8f79a",
   "metadata": {
    "tags": []
   },
   "outputs": [],
   "source": [
    "result = (\n",
    "    PseudoData                   ### GENERAL WORKFLOW ###\n",
    "    .from_pandas(df)             # Select dataset\n",
    "    .on_fields(\"fnr\")            # Select fields in dataset\n",
    "    .with_default_encryption()   # Select encryption method on fields\n",
    "    .pseudonymize()              # Apply pseudonymization\n",
    ")\n",
    "result.to_polars().head()        # Convert result to Polars DataFrame"
   ]
  },
  {
   "cell_type": "markdown",
   "id": "57899c77",
   "metadata": {},
   "source": [
    "# Case: Single field, default encryption from file"
   ]
  },
  {
   "cell_type": "code",
   "execution_count": null,
   "id": "69add38e",
   "metadata": {},
   "outputs": [],
   "source": [
    "# Note that pseudonymizing from file is only recommended if you *cannot* read the data into a DataFrame.\n",
    "# This is typically the case when you have a hierarchical dataset, and reading from file is the only option.\n",
    "\n",
    "# Read from a bucket\n",
    "result = (\n",
    "    PseudoData\n",
    "    .from_file(\"gs://path/to/bucket/file.json\")\n",
    "    .on_fields(\"fnr\")\n",
    "    .with_default_encryption()\n",
    "    .pseudonymize()\n",
    ")\n",
    "# Write to bucket\n",
    "result.to_file(\"gs://path/to/bucket/file.json\")\n",
    "\n",
    "# Read from local filesystem\n",
    "result = (\n",
    "    PseudoData\n",
    "    .from_file(JSON_FILE)\n",
    "    .on_fields(\"fnr\")\n",
    "    .with_default_encryption()\n",
    "    .pseudonymize()\n",
    ")\n",
    "# Write to local filesystem\n",
    "result.to_file(\"/not/a/real/path.json\")"
   ]
  },
  {
   "cell_type": "markdown",
   "id": "0953789f-1ed6-4f74-919b-b92fde89a916",
   "metadata": {},
   "source": [
    "# Case: Single field, Stable ID mapping"
   ]
  },
  {
   "cell_type": "code",
   "execution_count": null,
   "id": "070c3567-ed55-4a10-8891-d5baaa8dec8b",
   "metadata": {
    "tags": []
   },
   "outputs": [],
   "source": [
    "result = (\n",
    "    PseudoData.from_pandas(df)\n",
    "    .on_fields(\"fnr\")\n",
    "    .with_stable_id()\n",
    "    .pseudonymize()\n",
    ")\n",
    "result.to_polars().head()"
   ]
  },
  {
   "cell_type": "markdown",
   "id": "69689655-f2f2-4d4a-a4fe-5f031c65aaf0",
   "metadata": {},
   "source": [
    "# Case: Single field, FPE encryption (used for e.g. existing stable ID/snr/sid)"
   ]
  },
  {
   "cell_type": "code",
   "execution_count": null,
   "id": "ad3ef370-82f2-4993-9f0d-164bb40d4334",
   "metadata": {
    "tags": []
   },
   "outputs": [],
   "source": [
    "result = (\n",
    "    PseudoData.from_pandas(df)\n",
    "    .on_fields(\"fnr\")\n",
    "    .with_papis_compatible_encryption()\n",
    "    .pseudonymize()\n",
    ")\n",
    "result.to_polars().head()"
   ]
  },
  {
   "cell_type": "markdown",
   "id": "c8410675-a26f-4b6c-98c9-04108c82b474",
   "metadata": {},
   "source": [
    "# Case: Multiple fields, default encryption (DAEAD)"
   ]
  },
  {
   "cell_type": "code",
   "execution_count": null,
   "id": "a43308ab-7418-4c7b-900f-f222a66b3d9f",
   "metadata": {
    "tags": []
   },
   "outputs": [],
   "source": [
    "result = (\n",
    "    PseudoData.from_pandas(df)\n",
    "    .on_fields(\"fornavn\", \"etternavn\", \"fodselsdato\")\n",
    "    .with_default_encryption()\n",
    "    .pseudonymize()\n",
    ")\n",
    "result.to_polars().head()"
   ]
  },
  {
   "cell_type": "markdown",
   "id": "74948ca1-66a2-42f7-ba81-05480fcc964b",
   "metadata": {},
   "source": [
    "# Case: Chaining calls\n",
    "Calls may simply be chained together to apply different pseudonymization to different fields."
   ]
  },
  {
   "cell_type": "code",
   "execution_count": null,
   "id": "ec81dd18-5f90-4262-8603-7073e89f6527",
   "metadata": {
    "tags": []
   },
   "outputs": [],
   "source": [
    "result = (\n",
    "    PseudoData.from_pandas(df)\n",
    "    .on_fields(\"fnr\")\n",
    "    .with_stable_id()          # Only applies to the selected field in the previous line, \"fnr\"\n",
    "    .on_fields(\"fornavn\", \"etternavn\", \"fodselsdato\")\n",
    "    .with_default_encryption() # Only applies to the selected fields in the previous line, \"fornavn\", \"etternavn\", \"fodselsdato\"\n",
    "    .pseudonymize()\n",
    ")\n",
    "result.to_polars().head()"
   ]
  },
  {
   "cell_type": "markdown",
   "id": "384c7cc7",
   "metadata": {},
   "source": [
    "# Case: Hierarchical dataset field selection\n",
    "When working with hierarchical datasets, we sometimes need more granular control for selecting fields.\n",
    "\n",
    "The \"on_fields()\" method supports glob-syntax *if and only if* reading directly from a file"
   ]
  },
  {
   "cell_type": "code",
   "execution_count": null,
   "id": "081937af",
   "metadata": {},
   "outputs": [],
   "source": [
    "import json\n",
    "\n",
    "# JSON_HIERARCHICAL follows the structure of the following JSON:\n",
    "\"\"\"{ \n",
    "    \"person_info\": {\n",
    "      \"fnr\": \"11854898347\",\n",
    "      \"fornavn\": \"Donald\",\n",
    "      \"etternavn\": \"Duck\"\n",
    "    },\n",
    "    \"kjonn\": \"M\",\n",
    "    \"fodselsdato\": \"020995\"\n",
    "  }\n",
    "}\"\"\"\n",
    "JSON_HIERARCHICAL = \"data/personer_hierarchical.json\"\n",
    "\n",
    "# Only showing the first methods until \"on_fields()\" - the rest of the code is the same as in other examples\n",
    "result = (\n",
    "  PseudoData.\n",
    "  from_file(JSON_HIERARCHICAL)\n",
    "  .on_fields(\"fnr\")             # -> Select all nested fields that matches the name \"fnr\"\n",
    ")\n",
    "\n",
    "result = (\n",
    "  PseudoData.\n",
    "  from_file(JSON_HIERARCHICAL)\n",
    "  .on_fields(\"person_info/fnr\") # -> Select the nested field \"fnr\" inside any match of the field \"person_info\"\n",
    ")\n",
    "\n",
    "result = (\n",
    "  PseudoData.\n",
    "  from_file(JSON_HIERARCHICAL)\n",
    "  .on_fields(\"p*/fnr\")         # -> Select the nested field \"fnr\" inside a match of any field that starts with 'p'\n",
    ")\n",
    "\n",
    "result = (\n",
    "  PseudoData.\n",
    "  from_file(JSON_HIERARCHICAL)\n",
    "  .on_fields(\"person_info/f*\") # -> Select any field that starts with \"f\" inside the field \"person_info\"\n",
    ")"
   ]
  },
  {
   "cell_type": "markdown",
   "id": "15be99fe",
   "metadata": {},
   "source": [
    "# Case: Single field SID mapping with specific SID version\n",
    "The versions are deduced by supplying a timestamp"
   ]
  },
  {
   "cell_type": "code",
   "execution_count": null,
   "id": "699d9137",
   "metadata": {},
   "outputs": [],
   "source": [
    "# With date string (YYYY-MM-DD)\n",
    "result = (\n",
    "    PseudoData.from_pandas(df)\n",
    "    .on_fields(\"fnr\")\n",
    "    .with_stable_id(sid_snapshot_date=\"2023-07-01\")\n",
    "    .pseudonymize()\n",
    ")\n",
    "result.to_polars().head()\n",
    "\n",
    "# With date type\n",
    "from datetime import date\n",
    "result = (\n",
    "    PseudoData.from_pandas(df)\n",
    "    .on_fields(\"fnr\")\n",
    "    .with_stable_id(sid_snapshot_date=date.today())\n",
    "    .pseudonymize()\n",
    ")\n",
    "result.to_polars().head()"
   ]
  },
  {
   "cell_type": "markdown",
   "id": "13a2e8ba66591a17",
   "metadata": {},
   "source": [
    "# Case: Validate field SID mapping\n",
    "Validate that all values in a column have valid SIDs"
   ]
  },
  {
   "cell_type": "code",
   "execution_count": null,
   "id": "89a15d5fd83af7eb",
   "metadata": {},
   "outputs": [],
   "source": [
    "from dapla_pseudo import Validator\n",
    "\n",
    "result = (\n",
    "    Validator.from_pandas(df)\n",
    "    .on_field(\"fnr\")\n",
    "    .validate_map_to_stable_id()\n",
    ")\n",
    "result.to_polars().head()"
   ]
  },
  {
   "cell_type": "code",
   "execution_count": null,
   "id": "e5dfac47967eb179",
   "metadata": {},
   "outputs": [],
   "source": []
  }
 ],
 "metadata": {
  "kernelspec": {
   "display_name": ".venv",
   "language": "python",
   "name": "python3"
  },
  "language_info": {
   "codemirror_mode": {
    "name": "ipython",
    "version": 3
   },
   "file_extension": ".py",
   "mimetype": "text/x-python",
   "name": "python",
   "nbconvert_exporter": "python",
   "pygments_lexer": "ipython3",
   "version": "3.11.6"
  }
 },
 "nbformat": 4,
 "nbformat_minor": 5
}
