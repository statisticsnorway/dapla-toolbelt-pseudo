{
 "cells": [
  {
   "cell_type": "code",
   "execution_count": null,
   "id": "fcc3b381-e9a8-4376-946f-d5aae4c7844f",
   "metadata": {
    "tags": []
   },
   "outputs": [],
   "source": [
    "from io import StringIO\n",
    "from pathlib import Path\n",
    "\n",
    "from dapla_pseudo import PseudoData\n",
    "import pandas as pd\n",
    "\n",
    "JSON_FILE = \"data/personer.json\"\n",
    "CSV_FILE = \"data/personer.csv\"\n",
    "\n",
    "df = pd.read_json(\n",
    "    JSON_FILE,\n",
    "    dtype={\n",
    "        \"fnr\": \"string\",\n",
    "        \"fornavn\": \"string\",\n",
    "        \"etternavn\": \"string\",\n",
    "        \"kjonn\": \"category\",\n",
    "        \"fodselsdato\": \"string\",\n",
    "    },\n",
    ")\n",
    "df.head()"
   ]
  },
  {
   "cell_type": "markdown",
   "id": "11a6cb10-568c-464b-b6a1-886e29f4eba1",
   "metadata": {},
   "source": [
    "# Case: Single field default encryption (daead)"
   ]
  },
  {
   "cell_type": "code",
   "execution_count": null,
   "id": "552106c1-3824-47ca-9566-4dd34ef8f79a",
   "metadata": {
    "tags": []
   },
   "outputs": [],
   "source": [
    "result = (\n",
    "    PseudoData.from_pandas(df).on_field(\"fnr\").pseudonymize()\n",
    ")\n",
    "result.to_polars().head()"
   ]
  },
  {
   "cell_type": "markdown",
   "id": "0953789f-1ed6-4f74-919b-b92fde89a916",
   "metadata": {},
   "source": [
    "# Case: Single field sid mapping"
   ]
  },
  {
   "cell_type": "code",
   "execution_count": null,
   "id": "070c3567-ed55-4a10-8891-d5baaa8dec8b",
   "metadata": {
    "tags": []
   },
   "outputs": [],
   "source": [
    "result = (\n",
    "    PseudoData.from_pandas(df)\n",
    "    .on_field(\"fnr\")\n",
    "    .map_to_stable_id()\n",
    "    .pseudonymize()\n",
    ")\n",
    "result.to_polars().head()"
   ]
  },
  {
   "cell_type": "markdown",
   "id": "69689655-f2f2-4d4a-a4fe-5f031c65aaf0",
   "metadata": {},
   "source": [
    "# Case: Single field FPE (used for e.g. existing stable ID/snr/sid)"
   ]
  },
  {
   "cell_type": "code",
   "execution_count": null,
   "id": "ad3ef370-82f2-4993-9f0d-164bb40d4334",
   "metadata": {
    "tags": []
   },
   "outputs": [],
   "source": [
    "result = (\n",
    "    PseudoData.from_pandas(df)\n",
    "    .on_field(\"fnr\")\n",
    "    .pseudonymize(preserve_formatting=True)\n",
    ")\n",
    "result.to_polars().head()"
   ]
  },
  {
   "cell_type": "markdown",
   "id": "c8410675-a26f-4b6c-98c9-04108c82b474",
   "metadata": {},
   "source": [
    "# Case: Multiple fields default encryption (daead)"
   ]
  },
  {
   "cell_type": "code",
   "execution_count": null,
   "id": "a43308ab-7418-4c7b-900f-f222a66b3d9f",
   "metadata": {
    "tags": []
   },
   "outputs": [],
   "source": [
    "result = (\n",
    "    PseudoData.from_pandas(df)\n",
    "    .on_fields(\"fornavn\", \"etternavn\", \"fodselsdato\")\n",
    "    .pseudonymize()\n",
    ")\n",
    "result.to_polars().head()"
   ]
  },
  {
   "cell_type": "markdown",
   "id": "74948ca1-66a2-42f7-ba81-05480fcc964b",
   "metadata": {},
   "source": [
    "# Case: Chaining calls\n",
    "Calls may simply be chained together to apply different pseudonymization to different fields."
   ]
  },
  {
   "cell_type": "code",
   "execution_count": null,
   "id": "ec81dd18-5f90-4262-8603-7073e89f6527",
   "metadata": {
    "tags": []
   },
   "outputs": [],
   "source": [
    "result = (\n",
    "    PseudoData.from_pandas(df)\n",
    "    .on_field(\"fnr\")\n",
    "    .map_to_stable_id()\n",
    "    .pseudonymize()\n",
    ")\n",
    "result = (\n",
    "    PseudoData.from_pandas(result.to_polars())\n",
    "    .on_fields(\"fornavn\", \"etternavn\", \"fodselsdato\")\n",
    "    .pseudonymize()\n",
    ")\n",
    "result.to_polars().head()"
   ]
  },
  {
   "cell_type": "markdown",
   "id": "15be99fe",
   "metadata": {},
   "source": [
    "# Case: Single field SID mapping with specific SID version\n",
    "The versions are deduced by supplying a timestamp"
   ]
  },
  {
   "cell_type": "code",
   "execution_count": null,
   "id": "699d9137",
   "metadata": {},
   "outputs": [],
   "source": [
    "result = (\n",
    "    PseudoData.from_pandas(df)\n",
    "    .on_field(\"fnr\")\n",
    "    .map_to_stable_id(sid_snapshot_date=\"2023-07-01\")\n",
    "    .pseudonymize()\n",
    ")\n",
    "result.to_polars().head()"
   ]
  },
  {
   "cell_type": "code",
   "execution_count": null,
   "id": "24282768",
   "metadata": {},
   "outputs": [],
   "source": [
    "# With date type\n",
    "from datetime import date\n",
    "result = (\n",
    "    PseudoData.from_pandas(df)\n",
    "    .on_field(\"fnr\")\n",
    "    .map_to_stable_id(sid_snapshot_date=date.today())\n",
    "    .pseudonymize()\n",
    ")\n",
    "result.to_polars().head()"
   ]
  },
  {
   "cell_type": "markdown",
   "source": [
    "# Case: Validate field SID mapping\n",
    "Validate that all values in a column have valid SIDs"
   ],
   "metadata": {
    "collapsed": false
   },
   "id": "13a2e8ba66591a17"
  },
  {
   "cell_type": "code",
   "execution_count": null,
   "outputs": [],
   "source": [
    "from dapla_pseudo import Validator\n",
    "\n",
    "result = (\n",
    "    Validator.from_pandas(df)\n",
    "    .on_field(\"fnr\")\n",
    "    .validate_map_to_stable_id()\n",
    ")\n",
    "result.to_polars().head()"
   ],
   "metadata": {
    "collapsed": false
   },
   "id": "89a15d5fd83af7eb"
  },
  {
   "cell_type": "code",
   "execution_count": null,
   "outputs": [],
   "source": [],
   "metadata": {
    "collapsed": false
   },
   "id": "e5dfac47967eb179"
  }
 ],
 "metadata": {
  "kernelspec": {
   "display_name": ".venv",
   "language": "python",
   "name": "python3"
  },
  "language_info": {
   "codemirror_mode": {
    "name": "ipython"
   },
   "file_extension": ".py",
   "mimetype": "text/x-python",
   "name": "python",
   "nbconvert_exporter": "python",
   "version": "3.11.5"
  }
 },
 "nbformat": 4,
 "nbformat_minor": 5
}
