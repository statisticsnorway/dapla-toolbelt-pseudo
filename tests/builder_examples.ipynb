{
 "cells": [
  {
   "cell_type": "code",
   "execution_count": 1,
   "id": "fcc3b381-e9a8-4376-946f-d5aae4c7844f",
   "metadata": {
    "tags": []
   },
   "outputs": [
    {
     "data": {
      "text/html": [
       "<div>\n",
       "<style scoped>\n",
       "    .dataframe tbody tr th:only-of-type {\n",
       "        vertical-align: middle;\n",
       "    }\n",
       "\n",
       "    .dataframe tbody tr th {\n",
       "        vertical-align: top;\n",
       "    }\n",
       "\n",
       "    .dataframe thead th {\n",
       "        text-align: right;\n",
       "    }\n",
       "</style>\n",
       "<table border=\"1\" class=\"dataframe\">\n",
       "  <thead>\n",
       "    <tr style=\"text-align: right;\">\n",
       "      <th></th>\n",
       "      <th>fnr</th>\n",
       "      <th>fornavn</th>\n",
       "      <th>etternavn</th>\n",
       "      <th>kjonn</th>\n",
       "      <th>fodselsdato</th>\n",
       "    </tr>\n",
       "  </thead>\n",
       "  <tbody>\n",
       "    <tr>\n",
       "      <th>0</th>\n",
       "      <td>02099510504</td>\n",
       "      <td>Donald</td>\n",
       "      <td>Duck</td>\n",
       "      <td>M</td>\n",
       "      <td>020995</td>\n",
       "    </tr>\n",
       "    <tr>\n",
       "      <th>1</th>\n",
       "      <td>06097048531</td>\n",
       "      <td>Mikke</td>\n",
       "      <td>Mus</td>\n",
       "      <td>M</td>\n",
       "      <td>060970</td>\n",
       "    </tr>\n",
       "    <tr>\n",
       "      <th>2</th>\n",
       "      <td>18099908978</td>\n",
       "      <td>Anton</td>\n",
       "      <td>Duck</td>\n",
       "      <td>M</td>\n",
       "      <td>180999</td>\n",
       "    </tr>\n",
       "  </tbody>\n",
       "</table>\n",
       "</div>"
      ],
      "text/plain": [
       "           fnr fornavn etternavn kjonn fodselsdato\n",
       "0  02099510504  Donald      Duck     M      020995\n",
       "1  06097048531   Mikke       Mus     M      060970\n",
       "2  18099908978   Anton      Duck     M      180999"
      ]
     },
     "execution_count": 1,
     "metadata": {},
     "output_type": "execute_result"
    }
   ],
   "source": [
    "from io import StringIO\n",
    "from pathlib import Path\n",
    "\n",
    "from dapla_pseudo import PseudoData\n",
    "import pandas as pd\n",
    "\n",
    "JSON_FILE = \"data/personer.json\"\n",
    "CSV_FILE = \"data/personer.csv\"\n",
    "\n",
    "df = pd.read_json(\n",
    "    JSON_FILE,\n",
    "    dtype={\n",
    "        \"fnr\": \"string\",\n",
    "        \"fornavn\": \"string\",\n",
    "        \"etternavn\": \"string\",\n",
    "        \"kjonn\": \"category\",\n",
    "        \"fodselsdato\": \"string\",\n",
    "    },\n",
    ")\n",
    "df.head()"
   ]
  },
  {
   "cell_type": "markdown",
   "id": "11a6cb10-568c-464b-b6a1-886e29f4eba1",
   "metadata": {},
   "source": [
    "# Case: Single field default encryption (daead)"
   ]
  },
  {
   "cell_type": "code",
   "execution_count": 2,
   "id": "552106c1-3824-47ca-9566-4dd34ef8f79a",
   "metadata": {
    "tags": []
   },
   "outputs": [
    {
     "ename": "KeyError",
     "evalue": "'LOCAL_USER_PATH'",
     "output_type": "error",
     "traceback": [
      "\u001b[0;31m---------------------------------------------------------------------------\u001b[0m",
      "\u001b[0;31mKeyError\u001b[0m                                  Traceback (most recent call last)",
      "Cell \u001b[0;32mIn[2], line 2\u001b[0m\n\u001b[1;32m      1\u001b[0m result \u001b[39m=\u001b[39m (\n\u001b[0;32m----> 2\u001b[0m     PseudoData\u001b[39m.\u001b[39;49mfrom_pandas(df)\u001b[39m.\u001b[39;49mon_field(\u001b[39m\"\u001b[39;49m\u001b[39mfnr\u001b[39;49m\u001b[39m\"\u001b[39;49m)\u001b[39m.\u001b[39;49mpseudonymize()\n\u001b[1;32m      3\u001b[0m )\n\u001b[1;32m      4\u001b[0m result\u001b[39m.\u001b[39mdataframe\u001b[39m.\u001b[39mhead()\n",
      "File \u001b[0;32m~/code/dapla/dapla-toolbelt-pseudo/src/dapla_pseudo/v1/builder.py:139\u001b[0m, in \u001b[0;36mPseudoData._Pseudonymizer.pseudonymize\u001b[0;34m(self, preserve_formatting, with_custom_function)\u001b[0m\n\u001b[1;32m    134\u001b[0m         \u001b[39mself\u001b[39m\u001b[39m.\u001b[39m_pseudo_func \u001b[39m=\u001b[39m PseudoFunction(\n\u001b[1;32m    135\u001b[0m             function_type\u001b[39m=\u001b[39mPseudoFunctionTypes\u001b[39m.\u001b[39mDAEAD, key\u001b[39m=\u001b[39mPredefinedKeys\u001b[39m.\u001b[39mSSB_COMMON_KEY_1\n\u001b[1;32m    136\u001b[0m         )\n\u001b[1;32m    137\u001b[0m         \u001b[39mfor\u001b[39;00m f \u001b[39min\u001b[39;00m \u001b[39mself\u001b[39m\u001b[39m.\u001b[39m_fields:\n\u001b[1;32m    138\u001b[0m             \u001b[39mprint\u001b[39m(\n\u001b[0;32m--> 139\u001b[0m                 _do_pseudonymize_field(\n\u001b[1;32m    140\u001b[0m                     path\u001b[39m=\u001b[39;49m\u001b[39m\"\u001b[39;49m\u001b[39mpseudonymize/field\u001b[39;49m\u001b[39m\"\u001b[39;49m, field_name\u001b[39m=\u001b[39;49mf, values\u001b[39m=\u001b[39;49m\u001b[39mself\u001b[39;49m\u001b[39m.\u001b[39;49m_dataframe[f]\u001b[39m.\u001b[39;49mto_list()\n\u001b[1;32m    141\u001b[0m                 )\n\u001b[1;32m    142\u001b[0m             )\n\u001b[1;32m    144\u001b[0m \u001b[39mreturn\u001b[39;00m _do_pseudonymize_file(\n\u001b[1;32m    145\u001b[0m     dataframe\u001b[39m=\u001b[39m\u001b[39mself\u001b[39m\u001b[39m.\u001b[39m_dataframe,\n\u001b[1;32m    146\u001b[0m     fields\u001b[39m=\u001b[39m[Field(pattern\u001b[39m=\u001b[39m\u001b[39mf\u001b[39m\u001b[39m\"\u001b[39m\u001b[39m**/\u001b[39m\u001b[39m{\u001b[39;00mf\u001b[39m}\u001b[39;00m\u001b[39m\"\u001b[39m) \u001b[39mfor\u001b[39;00m f \u001b[39min\u001b[39;00m \u001b[39mself\u001b[39m\u001b[39m.\u001b[39m_fields],\n\u001b[1;32m    147\u001b[0m     pseudo_func\u001b[39m=\u001b[39m\u001b[39mself\u001b[39m\u001b[39m.\u001b[39m_pseudo_func,\n\u001b[1;32m    148\u001b[0m )\n",
      "File \u001b[0;32m~/code/dapla/dapla-toolbelt-pseudo/src/dapla_pseudo/v1/builder.py:157\u001b[0m, in \u001b[0;36m_do_pseudonymize_field\u001b[0;34m(path, field_name, values, keyset)\u001b[0m\n\u001b[1;32m    151\u001b[0m \u001b[39mdef\u001b[39;00m \u001b[39m_do_pseudonymize_field\u001b[39m(\n\u001b[1;32m    152\u001b[0m     path: \u001b[39mstr\u001b[39m,\n\u001b[1;32m    153\u001b[0m     field_name: \u001b[39mstr\u001b[39m,\n\u001b[1;32m    154\u001b[0m     values: \u001b[39mlist\u001b[39m[\u001b[39mstr\u001b[39m],\n\u001b[1;32m    155\u001b[0m     keyset: t\u001b[39m.\u001b[39mOptional[PseudoKeyset] \u001b[39m=\u001b[39m \u001b[39mNone\u001b[39;00m,\n\u001b[1;32m    156\u001b[0m ):\n\u001b[0;32m--> 157\u001b[0m     response: requests\u001b[39m.\u001b[39mResponse \u001b[39m=\u001b[39m _client()\u001b[39m.\u001b[39;49m_post_to_field_endpoint(path, field_name, values, keyset, stream\u001b[39m=\u001b[39;49m\u001b[39mTrue\u001b[39;49;00m)\n\u001b[1;32m    158\u001b[0m     \u001b[39mreturn\u001b[39;00m response\u001b[39m.\u001b[39mjson()\n",
      "File \u001b[0;32m~/code/dapla/dapla-toolbelt-pseudo/src/dapla_pseudo/v1/client.py:211\u001b[0m, in \u001b[0;36mPseudoClient._post_to_field_endpoint\u001b[0;34m(self, path, field_name, values, pseudo_func, keyset, stream)\u001b[0m\n\u001b[1;32m    207\u001b[0m \u001b[39mif\u001b[39;00m keyset:\n\u001b[1;32m    208\u001b[0m     request[\u001b[39m\"\u001b[39m\u001b[39mkeyset\u001b[39m\u001b[39m\"\u001b[39m] \u001b[39m=\u001b[39m keyset\n\u001b[1;32m    209\u001b[0m response \u001b[39m=\u001b[39m requests\u001b[39m.\u001b[39mpost(\n\u001b[1;32m    210\u001b[0m     url\u001b[39m=\u001b[39m\u001b[39mf\u001b[39m\u001b[39m\"\u001b[39m\u001b[39m{\u001b[39;00m\u001b[39mself\u001b[39m\u001b[39m.\u001b[39mpseudo_service_url\u001b[39m}\u001b[39;00m\u001b[39m/\u001b[39m\u001b[39m{\u001b[39;00mpath\u001b[39m}\u001b[39;00m\u001b[39m\"\u001b[39m,\n\u001b[0;32m--> 211\u001b[0m     headers\u001b[39m=\u001b[39m{\u001b[39m\"\u001b[39m\u001b[39mAuthorization\u001b[39m\u001b[39m\"\u001b[39m: \u001b[39mf\u001b[39m\u001b[39m\"\u001b[39m\u001b[39mBearer \u001b[39m\u001b[39m{\u001b[39;00m\u001b[39mself\u001b[39m\u001b[39m.\u001b[39m__auth_token()\u001b[39m}\u001b[39;00m\u001b[39m\"\u001b[39m, \u001b[39m\"\u001b[39m\u001b[39mContent-Type\u001b[39m\u001b[39m\"\u001b[39m: \u001b[39mstr\u001b[39m(Mimetypes\u001b[39m.\u001b[39mJSON)},\n\u001b[1;32m    212\u001b[0m     json\u001b[39m=\u001b[39m{\n\u001b[1;32m    213\u001b[0m         \u001b[39m\"\u001b[39m\u001b[39mrequest\u001b[39m\u001b[39m\"\u001b[39m: request,\n\u001b[1;32m    214\u001b[0m     },\n\u001b[1;32m    215\u001b[0m     stream\u001b[39m=\u001b[39mstream,\n\u001b[1;32m    216\u001b[0m )\n\u001b[1;32m    217\u001b[0m response\u001b[39m.\u001b[39mraise_for_status()\n\u001b[1;32m    218\u001b[0m \u001b[39mreturn\u001b[39;00m response\n",
      "File \u001b[0;32m~/code/dapla/dapla-toolbelt-pseudo/src/dapla_pseudo/v1/client.py:37\u001b[0m, in \u001b[0;36mPseudoClient.__auth_token\u001b[0;34m(self)\u001b[0m\n\u001b[1;32m     36\u001b[0m \u001b[39mdef\u001b[39;00m \u001b[39m__auth_token\u001b[39m(\u001b[39mself\u001b[39m) \u001b[39m-\u001b[39m\u001b[39m>\u001b[39m \u001b[39mstr\u001b[39m:\n\u001b[0;32m---> 37\u001b[0m     \u001b[39mreturn\u001b[39;00m \u001b[39mstr\u001b[39m(AuthClient\u001b[39m.\u001b[39;49mfetch_personal_token()) \u001b[39mif\u001b[39;00m \u001b[39mself\u001b[39m\u001b[39m.\u001b[39mstatic_auth_token \u001b[39mis\u001b[39;00m \u001b[39mNone\u001b[39;00m \u001b[39melse\u001b[39;00m \u001b[39mstr\u001b[39m(\u001b[39mself\u001b[39m\u001b[39m.\u001b[39mstatic_auth_token)\n",
      "File \u001b[0;32m~/Library/Caches/pypoetry/virtualenvs/dapla-toolbelt-pseudo-s0-eGPKC-py3.10/lib/python3.10/site-packages/dapla/auth.py:32\u001b[0m, in \u001b[0;36mAuthClient.fetch_personal_token\u001b[0;34m()\u001b[0m\n\u001b[1;32m     29\u001b[0m \u001b[39m@staticmethod\u001b[39m\n\u001b[1;32m     30\u001b[0m \u001b[39mdef\u001b[39;00m \u001b[39mfetch_personal_token\u001b[39m():\n\u001b[1;32m     31\u001b[0m     \u001b[39mtry\u001b[39;00m:\n\u001b[0;32m---> 32\u001b[0m         \u001b[39mreturn\u001b[39;00m AuthClient\u001b[39m.\u001b[39;49mfetch_local_user()[\u001b[39m'\u001b[39m\u001b[39maccess_token\u001b[39m\u001b[39m'\u001b[39m]\n\u001b[1;32m     33\u001b[0m     \u001b[39mexcept\u001b[39;00m AuthError \u001b[39mas\u001b[39;00m err:\n\u001b[1;32m     34\u001b[0m         err\u001b[39m.\u001b[39mprint_warning()\n",
      "File \u001b[0;32m~/Library/Caches/pypoetry/virtualenvs/dapla-toolbelt-pseudo-s0-eGPKC-py3.10/lib/python3.10/site-packages/dapla/auth.py:20\u001b[0m, in \u001b[0;36mAuthClient.fetch_local_user\u001b[0;34m()\u001b[0m\n\u001b[1;32m     16\u001b[0m \u001b[39m@staticmethod\u001b[39m\n\u001b[1;32m     17\u001b[0m \u001b[39mdef\u001b[39;00m \u001b[39mfetch_local_user\u001b[39m():\n\u001b[1;32m     18\u001b[0m     \u001b[39m# Helps getting the correct ssl configs\u001b[39;00m\n\u001b[1;32m     19\u001b[0m     hub \u001b[39m=\u001b[39m HubAuth()\n\u001b[0;32m---> 20\u001b[0m     response \u001b[39m=\u001b[39m requests\u001b[39m.\u001b[39mget(os\u001b[39m.\u001b[39;49menviron[\u001b[39m'\u001b[39;49m\u001b[39mLOCAL_USER_PATH\u001b[39;49m\u001b[39m'\u001b[39;49m],\n\u001b[1;32m     21\u001b[0m                             headers\u001b[39m=\u001b[39m{\n\u001b[1;32m     22\u001b[0m                                 \u001b[39m'\u001b[39m\u001b[39mAuthorization\u001b[39m\u001b[39m'\u001b[39m: \u001b[39m'\u001b[39m\u001b[39mtoken \u001b[39m\u001b[39m%s\u001b[39;00m\u001b[39m'\u001b[39m \u001b[39m%\u001b[39m hub\u001b[39m.\u001b[39mapi_token\n\u001b[1;32m     23\u001b[0m                             }, cert\u001b[39m=\u001b[39m(hub\u001b[39m.\u001b[39mcertfile, hub\u001b[39m.\u001b[39mkeyfile), verify\u001b[39m=\u001b[39mhub\u001b[39m.\u001b[39mclient_ca, allow_redirects\u001b[39m=\u001b[39m\u001b[39mFalse\u001b[39;00m)\n\u001b[1;32m     24\u001b[0m     \u001b[39mif\u001b[39;00m response\u001b[39m.\u001b[39mstatus_code \u001b[39m==\u001b[39m \u001b[39m200\u001b[39m:\n\u001b[1;32m     25\u001b[0m         \u001b[39mreturn\u001b[39;00m response\u001b[39m.\u001b[39mjson()\n",
      "File \u001b[0;32m~/.pyenv/versions/3.10.10/lib/python3.10/os.py:680\u001b[0m, in \u001b[0;36m_Environ.__getitem__\u001b[0;34m(self, key)\u001b[0m\n\u001b[1;32m    677\u001b[0m     value \u001b[39m=\u001b[39m \u001b[39mself\u001b[39m\u001b[39m.\u001b[39m_data[\u001b[39mself\u001b[39m\u001b[39m.\u001b[39mencodekey(key)]\n\u001b[1;32m    678\u001b[0m \u001b[39mexcept\u001b[39;00m \u001b[39mKeyError\u001b[39;00m:\n\u001b[1;32m    679\u001b[0m     \u001b[39m# raise KeyError with the original key value\u001b[39;00m\n\u001b[0;32m--> 680\u001b[0m     \u001b[39mraise\u001b[39;00m \u001b[39mKeyError\u001b[39;00m(key) \u001b[39mfrom\u001b[39;00m \u001b[39mNone\u001b[39m\n\u001b[1;32m    681\u001b[0m \u001b[39mreturn\u001b[39;00m \u001b[39mself\u001b[39m\u001b[39m.\u001b[39mdecodevalue(value)\n",
      "\u001b[0;31mKeyError\u001b[0m: 'LOCAL_USER_PATH'"
     ]
    }
   ],
   "source": [
    "result = (\n",
    "    PseudoData.from_pandas(df).on_field(\"fnr\").pseudonymize()\n",
    ")\n",
    "result.dataframe.head()"
   ]
  },
  {
   "cell_type": "markdown",
   "id": "0953789f-1ed6-4f74-919b-b92fde89a916",
   "metadata": {},
   "source": [
    "# Case: Single field sid mapping"
   ]
  },
  {
   "cell_type": "code",
   "execution_count": null,
   "id": "070c3567-ed55-4a10-8891-d5baaa8dec8b",
   "metadata": {
    "tags": []
   },
   "outputs": [],
   "source": [
    "result = (\n",
    "    PseudoData.from_pandas(df)\n",
    "    .on_field(\"fnr\")\n",
    "    .map_to_stable_id()\n",
    "    .pseudonymize()\n",
    ")\n",
    "result.dataframe.head()"
   ]
  },
  {
   "cell_type": "markdown",
   "id": "69689655-f2f2-4d4a-a4fe-5f031c65aaf0",
   "metadata": {},
   "source": [
    "# Case: Single field FPE (used for e.g. existing stable ID/snr/sid)"
   ]
  },
  {
   "cell_type": "code",
   "execution_count": null,
   "id": "ad3ef370-82f2-4993-9f0d-164bb40d4334",
   "metadata": {
    "tags": []
   },
   "outputs": [],
   "source": [
    "result = (\n",
    "    PseudoData.from_pandas(df)\n",
    "    .on_field(\"fnr\")\n",
    "    .pseudonymize(preserve_formatting=True)\n",
    ")\n",
    "result.dataframe.head()"
   ]
  },
  {
   "cell_type": "markdown",
   "id": "c8410675-a26f-4b6c-98c9-04108c82b474",
   "metadata": {},
   "source": [
    "# Case: Multiple fields default encryption (daead)"
   ]
  },
  {
   "cell_type": "code",
   "execution_count": null,
   "id": "a43308ab-7418-4c7b-900f-f222a66b3d9f",
   "metadata": {
    "tags": []
   },
   "outputs": [],
   "source": [
    "result = (\n",
    "    PseudoData.from_pandas(df)\n",
    "    .on_fields(\"fornavn\", \"etternavn\", \"fodselsdato\")\n",
    "    .pseudonymize()\n",
    ")\n",
    "result.dataframe.head()"
   ]
  },
  {
   "cell_type": "markdown",
   "id": "74948ca1-66a2-42f7-ba81-05480fcc964b",
   "metadata": {},
   "source": [
    "# Case: Chaining calls\n",
    "Calls may simply be chained together to apply different pseudonymization to different fields."
   ]
  },
  {
   "cell_type": "code",
   "execution_count": null,
   "id": "ec81dd18-5f90-4262-8603-7073e89f6527",
   "metadata": {
    "tags": []
   },
   "outputs": [],
   "source": [
    "result = (\n",
    "    PseudoData.from_pandas(df)\n",
    "    .on_field(\"fnr\")\n",
    "    .map_to_stable_id()\n",
    "    .pseudonymize()\n",
    ")\n",
    "result = (\n",
    "    PseudoData.from_pandas(result.dataframe)\n",
    "    .on_fields(\"fornavn\", \"etternavn\", \"fodselsdato\")\n",
    "    .pseudonymize()\n",
    ")\n",
    "result.dataframe.head()"
   ]
  }
 ],
 "metadata": {
  "kernelspec": {
   "display_name": "dapla-toolbelt-pseudo-s0-eGPKC-py3.10",
   "language": "python",
   "name": "python3"
  },
  "language_info": {
   "codemirror_mode": {
    "name": "ipython",
    "version": 3
   },
   "file_extension": ".py",
   "mimetype": "text/x-python",
   "name": "python",
   "nbconvert_exporter": "python",
   "pygments_lexer": "ipython3",
   "version": "3.10.10"
  }
 },
 "nbformat": 4,
 "nbformat_minor": 5
}
