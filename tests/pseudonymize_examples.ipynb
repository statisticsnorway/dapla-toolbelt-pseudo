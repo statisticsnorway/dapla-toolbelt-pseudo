{
 "cells": [
  {
   "cell_type": "code",
   "execution_count": null,
   "id": "fcc3b381-e9a8-4376-946f-d5aae4c7844f",
   "metadata": {
    "tags": []
   },
   "outputs": [],
   "source": [
    "from io import StringIO\n",
    "from pathlib import Path\n",
    "\n",
    "import dapla_pseudo as dps\n",
    "import pandas as pd\n",
    "\n",
    "JSON_FILE = \"data/personer.json\"\n",
    "CSV_FILE = \"data/personer.csv\""
   ]
  },
  {
   "cell_type": "markdown",
   "id": "11a6cb10-568c-464b-b6a1-886e29f4eba1",
   "metadata": {},
   "source": [
    "# Case: String path to json file"
   ]
  },
  {
   "cell_type": "code",
   "execution_count": null,
   "id": "552106c1-3824-47ca-9566-4dd34ef8f79a",
   "metadata": {
    "tags": []
   },
   "outputs": [],
   "source": [
    "response = dps.pseudonymize(JSON_FILE, fields=[\"fnr\"])\n",
    "pd.DataFrame(response.json()).head()"
   ]
  },
  {
   "cell_type": "markdown",
   "id": "4ce0882e-1efd-4c82-afad-866cc9457079",
   "metadata": {},
   "source": [
    "# Case: Pathlib path to csv file"
   ]
  },
  {
   "cell_type": "code",
   "execution_count": null,
   "id": "cd9d911d-76b1-4a19-85b4-47e573b23f77",
   "metadata": {
    "tags": []
   },
   "outputs": [],
   "source": [
    "response = dps.pseudonymize(Path(CSV_FILE), fields=[\"fnr\"])\n",
    "pd.read_csv(StringIO(response.text), delimiter=\";\").head()"
   ]
  },
  {
   "cell_type": "markdown",
   "id": "6acdd9d8-8351-430b-94b7-3dace07e919e",
   "metadata": {},
   "source": [
    "# Case: Dataframe"
   ]
  },
  {
   "cell_type": "code",
   "execution_count": null,
   "id": "83456f33-245f-47d5-97ed-67aab8179c85",
   "metadata": {
    "tags": []
   },
   "outputs": [],
   "source": [
    "df = pd.read_json(\n",
    "    JSON_FILE,\n",
    "    dtype={\n",
    "        \"fnr\": \"string\",\n",
    "        \"fornavn\": \"string\",\n",
    "        \"etternavn\": \"string\",\n",
    "        \"kjonn\": \"category\",\n",
    "        \"fodselsdato\": \"string\",\n",
    "    },\n",
    ")\n",
    "df.head()"
   ]
  },
  {
   "cell_type": "code",
   "execution_count": null,
   "id": "875437f5-5918-429d-bb6a-e4672cbc7a28",
   "metadata": {
    "tags": []
   },
   "outputs": [],
   "source": [
    "response = dps.pseudonymize(df, fields=[\"fnr\"])\n",
    "pseudo_df = pd.DataFrame(response.json())\n",
    "pseudo_df.head()"
   ]
  },
  {
   "cell_type": "markdown",
   "id": "76f8fb65-349b-439e-9e95-e69d72105360",
   "metadata": {},
   "source": [
    "# Case: File handle"
   ]
  },
  {
   "cell_type": "code",
   "execution_count": null,
   "id": "99c61b0a-be1b-4650-a2ee-7683f660e508",
   "metadata": {
    "tags": []
   },
   "outputs": [],
   "source": [
    "with open(JSON_FILE, \"rb\") as data:\n",
    "    response = dps.pseudonymize(data, fields=[\"fnr\"])\n",
    "\n",
    "pseudo_df = pd.DataFrame(response.json())\n",
    "pseudo_df.head()"
   ]
  },
  {
   "cell_type": "markdown",
   "id": "91d673c9",
   "metadata": {},
   "source": [
    "# Case: Single field SID mapping with specific SID version\n",
    "The versions are deduced by supplying a timestamp"
   ]
  },
  {
   "cell_type": "code",
   "execution_count": null,
   "id": "595b7018",
   "metadata": {},
   "outputs": [],
   "source": [
    "response = dps.pseudonymize(JSON_FILE, sid_fields=[\"fnr\"], version_timestamp=\"2023_04_25-12_35_40_649511\")\n",
    "response.json()"
   ]
  }
 ],
 "metadata": {
  "language_info": {
   "codemirror_mode": {
    "name": "ipython"
   },
   "file_extension": ".py",
   "mimetype": "text/x-python",
   "name": "python",
   "nbconvert_exporter": "python"
  }
 },
 "nbformat": 4,
 "nbformat_minor": 5
}
